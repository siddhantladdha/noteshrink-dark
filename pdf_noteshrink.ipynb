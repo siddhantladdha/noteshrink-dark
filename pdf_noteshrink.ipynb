{
 "cells": [
  {
   "cell_type": "markdown",
   "metadata": {},
   "source": [
    "1. Scan your notes at 300 dpi. This is the absolute best quality that I would recommend for handwritten notes. I wanted to capture every detail of my notes and thought \"well, let's use 600 dpi.\" That was a big mistake on my part. Your handwritten notes don't need that level of detail. Eventually you will have to compress them significantly since pdf readers and notetaking apps eventually crap out at huge pdf sizes. Save your time **Scan at 300 dpi and A4/US Letter (Portrait/Landscape)**. Also scanning at ultra high-resolution or sizes will make majority of the tools and libraries think that you are running a DeCompression Bomb DOS Attack.\n",
    "\n",
    "2. Since I was a smart ass and wanted to scan at 600 dpi and not use any app like Office Lens, Adobe Scan etc. the entirity of the next steps are required. This led to a lot of self-reflection with questions like \"why am I such a geek?\", \"why do I have to make my life difficult so much?\", \"Am I a masochist?\". I could have just used the apps like a normie and be done with this 2 years ago! But I guess it is too late to regret.\n",
    "\n",
    "3. Now the problem of being a smartass is that you have learn how to navigate on your own. So began the search for an app which could mimic the functionality offerred by existing apps. If nothing like this existed my hope was to read papers and implement similar systems on my own. Thankfully, I found out about [Noteshrink](https://github.com/mzucker/noteshrink) which was exclusivly created for the purpose of shrinking scanned handwritten notes efficiently. For a while this seemed to solve my issue. However, I wanted to make sure that all of my notes get converted correctly. So I picked up a random 5% of my notes and tried to convert it to a pdf. However, I noticed that there were issues post noteshrinking in a few of them which pushed me down a rabbit hole to solve this problem. Also, want dracula themed notes, so dug myself a deeper grave."
   ]
  },
  {
   "cell_type": "code",
   "execution_count": null,
   "metadata": {},
   "outputs": [],
   "source": [
    "from pdf_eat_pdf_shit import pdf_in_upload_to_processes, process_archival_directory"
   ]
  },
  {
   "cell_type": "markdown",
   "metadata": {},
   "source": [
    "### Directory Management\n",
    "\n",
    "Place the PDF you want to convert in `./upload`.\n",
    "The following program will create a folder named archival."
   ]
  },
  {
   "cell_type": "code",
   "execution_count": null,
   "metadata": {},
   "outputs": [],
   "source": [
    "upload_directory = './upload'\n",
    "archival_directory = './archival'"
   ]
  },
  {
   "cell_type": "code",
   "execution_count": null,
   "metadata": {},
   "outputs": [],
   "source": [
    "pdf_in_upload_to_processes(upload_directory, archival_directory)\n",
    "process_archival_directory(archival_directory)"
   ]
  }
 ],
 "metadata": {
  "kernelspec": {
   "display_name": "Python 3 (ipykernel)",
   "language": "python",
   "name": "python3"
  },
  "language_info": {
   "codemirror_mode": {
    "name": "ipython",
    "version": 3
   },
   "file_extension": ".py",
   "mimetype": "text/x-python",
   "name": "python",
   "nbconvert_exporter": "python",
   "pygments_lexer": "ipython3",
   "version": "3.10.14"
  },
  "vscode": {
   "interpreter": {
    "hash": "3f2a4e93551e47ca9ae1e426a72d76c6d351d6df61c77d91283f408cc94dc597"
   }
  }
 },
 "nbformat": 4,
 "nbformat_minor": 4
}
