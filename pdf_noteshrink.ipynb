{
 "cells": [
  {
   "cell_type": "markdown",
   "metadata": {},
   "source": [
    "1. Scan your notes at 300 dpi. This is the absolute best quality that I would recommend for handwritten notes. I wanted to capture every detail of my notes and thought \"well, let's use 600 dpi.\" That was a big mistake on my part. Your handwritten notes don't need that level of detail. Eventually you will have to compress them significantly since pdf readers and notetaking apps eventually crap out at huge pdf sizes. Save your time **Scan at 300 dpi and A4/US Letter (Portrait/Landscape)**. Also scanning at ultra high-resolution or sizes will make majority of the tools and libraries think that you are running a DeCompression Bomb DOS Attack.\n",
    "\n",
    "2. Since I was a smart ass and wanted to scan at 600 dpi and not use any app like Office Lens, Adobe Scan etc. the entirity of the next steps are required. This led to a lot of self-reflection with questions like \"why am I such a geek?\", \"why do I have to make my life difficult so much?\", \"Am I a masochist?\". I could have just used the apps like a normie and be done with this 2 years ago! But I guess it is too late to regret.\n",
    "\n",
    "3. Now the problem of being a smartass is that you have learn how to navigate on your own. So began the search for an app which could mimic the functionality offerred by existing apps. If nothing like this existed my hope was to read papers and implement similar systems on my own. Thankfully, I found out about [Noteshrink](https://github.com/mzucker/noteshrink) which was exclusivly created for the purpose of shrinking scanned handwritten notes efficiently. For a while this seemed to solve my issue. However, I wanted to make sure that all of my notes get converted correctly. So I picked up a random 5% of my notes and tried to convert it to a pdf. However, I noticed that there were issues post noteshrinking in a few of them which pushed me down a rabbit hole to solve this problem. Also, want dracula themed notes, so dug myself a deeper grave."
   ]
  },
  {
   "cell_type": "markdown",
   "metadata": {},
   "source": [
    "You will need `noteshrink`, `img2pdf` (since `convert` craps out a larger pdf sizes unless you change the policy) and `pdftoppm`"
   ]
  },
  {
   "cell_type": "code",
   "execution_count": null,
   "metadata": {},
   "outputs": [],
   "source": [
    "import subprocess, os, shutil, glob, time\n",
    "from pathlib import Path\n",
    "from concurrent.futures import ProcessPoolExecutor, ThreadPoolExecutor\n",
    "from preprocess import process_image"
   ]
  },
  {
   "cell_type": "markdown",
   "metadata": {},
   "source": [
    "### Directory Management\n",
    "\n",
    "Place the PDF you want to convert in `./upload`.\n",
    "The following program will create a folder named archival."
   ]
  },
  {
   "cell_type": "code",
   "execution_count": null,
   "metadata": {},
   "outputs": [],
   "source": [
    "def check_pdf_size(pdf_path):\n",
    "    \"\"\"Verify that the PDF file size is less than 2 GB.\"\"\"\n",
    "    max_size = 2 * 1024 * 1024 * 1024  # 2 GB in bytes\n",
    "    if pdf_path.stat().st_size > max_size:\n",
    "        print(f\"PDF larger than 2 GBs: {pdf_path}\")\n",
    "        return False\n",
    "    return True\n",
    "\n",
    "def setup_directories(pdf_path, root_archival):\n",
    "    \"\"\"Create necessary directories for the archival process.\"\"\"\n",
    "    pdf_name = pdf_path.stem\n",
    "    base_dir = root_archival / pdf_name\n",
    "    base_dir.mkdir(parents=True, exist_ok=True)\n",
    "    (base_dir / \"original_images\").mkdir(exist_ok=True)\n",
    "    (base_dir / \"preprocessed_images\").mkdir(exist_ok=True)\n",
    "    (base_dir / \"noteshrinked_images\").mkdir(exist_ok=True)\n",
    "    (base_dir / \"noteshrinked_post_processed_images\").mkdir(exist_ok=True)\n",
    "    return base_dir\n",
    "\n",
    "def convert_pdf_to_png(pdf_path, output_dir, dpi=300):\n",
    "    \"\"\"Convert PDF to PNG using pdftoppm.\"\"\"\n",
    "    output_prefix = output_dir / pdf_path.stem\n",
    "    print(\"Converting PDF to PNG\")\n",
    "    command = ' '.join([\"pdftoppm\", \"-png\", \"-progress\", \"-r\", str(dpi), str(pdf_path), str(output_prefix)])\n",
    "    subprocess.run(command, shell=True)\n",
    "\n",
    "def run_noteshrink(preprocessed_images_dir):\n",
    "    \"\"\"Run the noteshrink command on processed images.\"\"\"\n",
    "    files = [f for f in os.listdir(preprocessed_images_dir) if f.endswith('.png') and 'ns_page' not in f]\n",
    "    print(files)\n",
    "    cmd = ' '.join(['python',\n",
    "        noteshrink_py_path, '-w', '-n 5', '-b ns_page', '-C', '--dracula', '-o noteshrinked.pdf',\n",
    "        '-c \"img2pdf --verbose %i --output %o\"', ' '.join(files)\n",
    "    ])\n",
    "    subprocess.run(cmd, shell=True, cwd=preprocessed_images_dir)\n",
    "\n",
    "def process_pdf(pdf_path, root_archival, upload_dir):\n",
    "    \"\"\"Process a single PDF file.\"\"\"\n",
    "    pdf_path = Path(pdf_path)  # Ensure pdf_path is a Path object\n",
    "    if not check_pdf_size(pdf_path):\n",
    "        return\n",
    "    base_dir = setup_directories(pdf_path, root_archival)\n",
    "    shutil.copy(str(pdf_path), str(base_dir))\n",
    "    convert_pdf_to_png(base_dir / pdf_path.name, base_dir / \"original_images\")\n",
    "    # Process each image in the original_images directory\n",
    "    original_images_dir = base_dir / \"original_images\"\n",
    "    preprocessed_images_dir = base_dir / \"preprocessed_images\"\n",
    "    for image_file in original_images_dir.iterdir():\n",
    "        if image_file.suffix.lower() == '.png':\n",
    "            process_image(image_file.name, original_images_dir, preprocessed_images_dir)\n",
    "    run_noteshrink(base_dir / \"preprocessed_images\")\n",
    "\n",
    "def main(upload_dir, archival_dir):\n",
    "    \"\"\"Main function to process all PDFs in the upload directory.\"\"\"\n",
    "    root_archival = Path(archival_dir)\n",
    "    upload_path = Path(upload_dir)\n",
    "    pdfs = [f for f in upload_path.iterdir() if f.suffix.lower() == '.pdf']\n",
    "\n",
    "    with ProcessPoolExecutor() as executor:\n",
    "        results = [executor.submit(process_pdf, pdf, root_archival, upload_dir) for pdf in pdfs]\n",
    "        for future in results:\n",
    "            future.result()  # This will wait for the process to complete and handle exceptions"
   ]
  },
  {
   "cell_type": "code",
   "execution_count": null,
   "metadata": {},
   "outputs": [],
   "source": [
    "upload_directory = './upload'\n",
    "archival_directory = './archival'\n",
    "main(upload_directory, archival_directory)"
   ]
  },
  {
   "cell_type": "code",
   "execution_count": null,
   "metadata": {},
   "outputs": [],
   "source": [
    "def move_files_and_prepare_download(subdir):\n",
    "    \"\"\"\n",
    "    Move specific image files to designated directories and prepare the download folder using glob for pattern matching.\n",
    "    \"\"\"\n",
    "    # Define the target directories for image files\n",
    "    noteshrink_post_processed_dir = subdir / \"noteshrinked_post_processed_images\"\n",
    "    noteshrinked_images_dir = subdir / \"noteshrinked_images\"\n",
    "    noteshrink_post_processed_dir.mkdir(exist_ok=True)\n",
    "    noteshrinked_images_dir.mkdir(exist_ok=True)\n",
    "\n",
    "    # Process files in the preprocessed_images directory\n",
    "    preprocessed_dir = subdir / \"preprocessed_images\"\n",
    "    # Using glob to find matching files directly\n",
    "    for file_path in preprocessed_dir.glob(\"ns_page*_post.png\"):\n",
    "        shutil.move(str(file_path), str(noteshrink_post_processed_dir / file_path.name))\n",
    "    for file_path in preprocessed_dir.glob(\"ns_page*.png\"):\n",
    "        shutil.move(str(file_path), str(noteshrinked_images_dir / file_path.name))\n",
    "\n",
    "    # Handle the PDF file moving to a new download directory\n",
    "    download_dir = subdir.parent.parent / \"download\"\n",
    "    download_dir.mkdir(exist_ok=True)\n",
    "    pdf_target_dir = download_dir / subdir.name\n",
    "    pdf_target_dir.mkdir(exist_ok=True)\n",
    "\n",
    "    # Move noteshrinked.pdf if exists\n",
    "    pdf_file = subdir / \"preprocessed_images\" / \"noteshrinked.pdf\"\n",
    "    if pdf_file.exists():\n",
    "        shutil.move(str(pdf_file), str(pdf_target_dir / pdf_file.name))\n",
    "\n",
    "def process_archival_directory(archival_dir_path):\n",
    "    \"\"\"\n",
    "    Process each subdirectory in archival concurrently using multithreading.\n",
    "    \"\"\"\n",
    "    archival_dir = Path(archival_dir_path)\n",
    "    subdirs = [d for d in archival_dir.iterdir() if d.is_dir()]\n",
    "\n",
    "    with ThreadPoolExecutor() as executor:\n",
    "        executor.map(move_files_and_prepare_download, subdirs)\n",
    "\n",
    "if __name__ == \"__main__\":\n",
    "    archival_directory = './archival'\n",
    "    process_archival_directory(archival_directory)\n"
   ]
  }
 ],
 "metadata": {
  "kernelspec": {
   "display_name": "Python 3 (ipykernel)",
   "language": "python",
   "name": "python3"
  },
  "language_info": {
   "codemirror_mode": {
    "name": "ipython",
    "version": 3
   },
   "file_extension": ".py",
   "mimetype": "text/x-python",
   "name": "python",
   "nbconvert_exporter": "python",
   "pygments_lexer": "ipython3",
   "version": "3.12.3"
  },
  "vscode": {
   "interpreter": {
    "hash": "3f2a4e93551e47ca9ae1e426a72d76c6d351d6df61c77d91283f408cc94dc597"
   }
  }
 },
 "nbformat": 4,
 "nbformat_minor": 4
}
